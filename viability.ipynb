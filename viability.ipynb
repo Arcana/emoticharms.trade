{
 "cells": [
  {
   "cell_type": "code",
   "execution_count": 1,
   "metadata": {
    "collapsed": true
   },
   "outputs": [],
   "source": [
    "import math\n",
    "import random; random.seed(0)\n",
    "from collections import Counter\n",
    "from itertools import chain\n",
    "ATTENDEES = 17000\n",
    "eligible_users = []  # we will add a list of packs to this whenever we find someone who's eligible"
   ]
  },
  {
   "cell_type": "markdown",
   "metadata": {},
   "source": [
    "First I'm going to define a function which gets us an attendee's spending at random.\n",
    "Don't worry about the implementation, just check the printed sample of 100 values generated\n",
    "and see if it seems realistic. I think it is, but we can argue about this, sure.\n",
    "\n",
    "You can adjust the algorithm and see the numbers with what you feel is a realistic distribution."
   ]
  },
  {
   "cell_type": "code",
   "execution_count": 2,
   "metadata": {
    "collapsed": false,
    "scrolled": true
   },
   "outputs": [
    {
     "name": "stdout",
     "output_type": "stream",
     "text": [
      "[153, 66, 79, 69, 104, 92, 152, 65, 712, 269, 142, 127, 55, 110, 497, 222, 176, 50, 78, 123, 0, 224, 71, 61, 64, 175, 54, 92, 55, 134, 182, 475, 105, 107, 103, 61, 110, 88, 153, 311, 263, 97, 134, 180, 258, 396, 84, 1584, 169, 110, 114, 64, 56, 170, 183, 58, 52, 283, 126, 0, 109, 78, 666, 51, 60, 62, 348, 0, 55, 63, 74, 91, 55, 61, 143, 300, 124, 53, 204, 65, 83, 87, 102, 70, 198, 100, 0, 72, 67, 411, 68, 383, 112, 77, 119, 0, 72, 116, 233, 80]\n"
     ]
    }
   ],
   "source": [
    "def get_spending_of_attendee():\n",
    "    if random.random() < 0.03:  # Let's say 3% doesn't even care about the secret shop\n",
    "        return 0\n",
    "\n",
    "    return int((random.paretovariate(2) - 0.5) * 100)\n",
    "\n",
    "print([get_spending_of_attendee() for _ in range(100)])"
   ]
  },
  {
   "cell_type": "markdown",
   "metadata": {},
   "source": [
    "Packs are identified by an ID of `0` to `5`, and this function just hands out\n",
    "an attendee's packs based on their spending."
   ]
  },
  {
   "cell_type": "code",
   "execution_count": 3,
   "metadata": {
    "collapsed": true
   },
   "outputs": [],
   "source": [
    "def get_packs(spending):\n",
    "    return [random.randint(0, 5) for _ in range(math.floor(spending / 50))]"
   ]
  },
  {
   "cell_type": "markdown",
   "metadata": {},
   "source": [
    "So here's the meat of the notebook. We get a random spending, the packs for that,\n",
    "and try to redeem the stickers for the digital unlock. If we can't do that because\n",
    "of dupes, we increment our userbase by one. If someone is not constrained by dupes,\n",
    "they have no use for our site. This includes:\n",
    "\n",
    " - People who have less than 6 stickers in total\n",
    " - People who were lucky enough to be able complete to complete their book on their own"
   ]
  },
  {
   "cell_type": "code",
   "execution_count": 4,
   "metadata": {
    "collapsed": false
   },
   "outputs": [],
   "source": [
    "for _ in range(ATTENDEES):\n",
    "    spending = get_spending_of_attendee()\n",
    "    packs = get_packs(spending)\n",
    "    try:\n",
    "        while len(packs) > 5:\n",
    "            for pack_id in range(6):\n",
    "                packs.remove(pack_id)\n",
    "    except ValueError:\n",
    "        eligible_users.append(packs)"
   ]
  },
  {
   "cell_type": "code",
   "execution_count": 5,
   "metadata": {
    "collapsed": false
   },
   "outputs": [
    {
     "name": "stdout",
     "output_type": "stream",
     "text": [
      "1280\n"
     ]
    }
   ],
   "source": [
    "print(len(eligible_users))"
   ]
  },
  {
   "cell_type": "markdown",
   "metadata": {},
   "source": [
    "So, yeah. We have around 1,280 people who could even use the site. But:\n",
    "\n",
    " - We can't let all of them know that the site exists.\n",
    " - Since there's lots of people coming from abroad, most won't even have convenient Internet access.\n",
    " - Not all of them are going to bother (some of them already have one unlock redeemed).\n",
    " - If they are a group of friends they can possibly solve the issue without us.\n",
    "\n",
    "After all this, we're lucky to have say, a userbase of 500.\n",
    "\n",
    "However:"
   ]
  },
  {
   "cell_type": "code",
   "execution_count": 6,
   "metadata": {
    "collapsed": false
   },
   "outputs": [
    {
     "name": "stdout",
     "output_type": "stream",
     "text": [
      "42241\n"
     ]
    }
   ],
   "source": [
    "pack_count = sum(len(get_packs(get_spending_of_attendee())) for _ in range(ATTENDEES))\n",
    "print(pack_count)"
   ]
  },
  {
   "cell_type": "markdown",
   "metadata": {},
   "source": [
    "There's 42,000 packs handed out, most of which go unredeemed. That'd be 7,000\n",
    "completed sticker books if we could match them all up, not 1,280."
   ]
  }
 ],
 "metadata": {
  "kernelspec": {
   "display_name": "Python 3",
   "language": "python",
   "name": "python3"
  },
  "language_info": {
   "codemirror_mode": {
    "name": "ipython",
    "version": 3
   },
   "file_extension": ".py",
   "mimetype": "text/x-python",
   "name": "python",
   "nbconvert_exporter": "python",
   "pygments_lexer": "ipython3",
   "version": "3.4.3"
  }
 },
 "nbformat": 4,
 "nbformat_minor": 0
}
